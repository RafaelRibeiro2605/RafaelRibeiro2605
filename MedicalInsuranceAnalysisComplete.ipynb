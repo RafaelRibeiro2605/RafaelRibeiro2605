{
 "cells": [
  {
   "cell_type": "markdown",
   "metadata": {},
   "source": [
    "This project will serve to analyze the data given to find out some aspects about the people in it, we will look into seeing what percent of the about 1000 people have children, are smokers, where do they mostly live and the relations of that into their insurance cost"
   ]
  },
  {
   "cell_type": "code",
   "execution_count": 22,
   "metadata": {},
   "outputs": [
    {
     "name": "stdout",
     "output_type": "stream",
     "text": [
      "The average age is 39.2 years old\n"
     ]
    }
   ],
   "source": [
    "import csv\n",
    "\n",
    "#create all the values from the headers as lists\n",
    "ages = []\n",
    "gender = []\n",
    "bmi = []\n",
    "children = []\n",
    "smoker = []\n",
    "region = []\n",
    "charges = []\n",
    "\n",
    "#first we will look to find out the average age of people in the study\n",
    "with open('insurance.csv') as insurance_file:\n",
    "    insurance_reader = csv.DictReader(insurance_file)\n",
    "    for row in insurance_reader:\n",
    "        ages.append(int(row['age']))\n",
    "\n",
    "average_age = sum(ages) / len(ages)\n",
    "\n",
    "print('The average age is ' + str(round(average_age, 1)) + ' years old')\n",
    "    "
   ]
  },
  {
   "cell_type": "code",
   "execution_count": 39,
   "metadata": {},
   "outputs": [
    {
     "name": "stdout",
     "output_type": "stream",
     "text": [
      "There are about 50.52% of man in this study and 49.48% of woman\n"
     ]
    }
   ],
   "source": [
    "#find out the gender distribution\n",
    "\n",
    "with open('insurance.csv') as insurance_file:\n",
    "    insurance_reader = csv.DictReader(insurance_file)\n",
    "    male_counter = 0\n",
    "    female_counter = 0\n",
    "    for row in insurance_reader:\n",
    "        gender.append(row['sex'])\n",
    "        if row['sex'] == 'male':\n",
    "            male_counter += 1\n",
    "        else:\n",
    "            female_counter += 1\n",
    "            \n",
    "#calculate the percentage of each          \n",
    "male_percentage = (male_counter / (male_counter+female_counter)) * 100\n",
    "female_percentage = 100 - male_percentage\n",
    "            \n",
    "print(\"There are about \" + str(round(male_percentage, 2)) + '%' + \" of man in this study and \" + str(round(female_percentage, 2)) + '% of woman') "
   ]
  },
  {
   "cell_type": "code",
   "execution_count": 42,
   "metadata": {},
   "outputs": [
    {
     "name": "stdout",
     "output_type": "stream",
     "text": [
      "The average amount of children is 1.1\n"
     ]
    }
   ],
   "source": [
    "#now we will look into the average amount of children, using pretty much the same code as age\n",
    "\n",
    "with open('insurance.csv') as insurance_file:\n",
    "    insurance_reader = csv.DictReader(insurance_file)\n",
    "    for row in insurance_reader:\n",
    "        children.append(int(row['children']))\n",
    "\n",
    "average_children = sum(children) / len(children)\n",
    "\n",
    "print('The average amount of children is ' + str(round(average_children, 1)))"
   ]
  },
  {
   "cell_type": "code",
   "execution_count": 46,
   "metadata": {},
   "outputs": [
    {
     "name": "stdout",
     "output_type": "stream",
     "text": [
      "There are about 20.48% of smokers in this study and 79.52% of non-smokers\n"
     ]
    }
   ],
   "source": [
    "#find out how many are smokers, again same code as male/female\n",
    "\n",
    "with open('insurance.csv') as insurance_file:\n",
    "    insurance_reader = csv.DictReader(insurance_file)\n",
    "    smoker_counter = 0\n",
    "    nonsmoker_counter = 0\n",
    "    for row in insurance_reader:\n",
    "        smoker.append(row['smoker'])\n",
    "        if row['smoker'] == 'yes':\n",
    "            smoker_counter += 1\n",
    "        else:\n",
    "            nonsmoker_counter += 1\n",
    "            \n",
    "#calculate the percentage of each          \n",
    "smoker_percentage = (smoker_counter / (smoker_counter+nonsmoker_counter)) * 100\n",
    "nonsmoker_percentage = 100 - smoker_percentage\n",
    "            \n",
    "print(\"There are about \" + str(round(smoker_percentage, 2)) + '%' + \" of smokers in this study and \" + str(round(nonsmoker_percentage, 2)) + '% of non-smokers')\n",
    "\n"
   ]
  },
  {
   "cell_type": "code",
   "execution_count": 52,
   "metadata": {},
   "outputs": [
    {
     "name": "stdout",
     "output_type": "stream",
     "text": [
      "The average bmi is 30.66\n"
     ]
    }
   ],
   "source": [
    "#find out the average BMI \n",
    "\n",
    "with open('insurance.csv') as insurance_file:\n",
    "    insurance_reader = csv.DictReader(insurance_file)\n",
    "    for row in insurance_reader:\n",
    "        bmi.append(float(row['bmi']))\n",
    "\n",
    "average_bmi = sum(bmi) / len(bmi)\n",
    "\n",
    "print('The average bmi is ' + str(round(average_bmi,2)))"
   ]
  },
  {
   "cell_type": "code",
   "execution_count": 83,
   "metadata": {},
   "outputs": [
    {
     "name": "stdout",
     "output_type": "stream",
     "text": [
      "Regions and their respective people counts:\n",
      "southwest: 325 people\n",
      "southeast: 364 people\n",
      "northwest: 325 people\n",
      "northeast: 324 people\n"
     ]
    }
   ],
   "source": [
    "#find the most common region people live in:\n",
    "region_counter = {}\n",
    "\n",
    "with open('insurance.csv') as insurance_file:\n",
    "    insurance_reader = csv.DictReader(insurance_file)\n",
    "    for row in insurance_reader:\n",
    "        region_name = row['region']\n",
    "        region.append(row['region'])\n",
    "        if region_name not in region_counter:\n",
    "            region_counter[region_name] = 1\n",
    "        else:         \n",
    "            region_counter[region_name] += 1\n",
    "        \n",
    "\n",
    "#Show the results\n",
    "print(\"Regions and their respective people counts:\")\n",
    "for region_name, count in region_counter.items():\n",
    "    print(f\"{region_name}: {count} people\")"
   ]
  },
  {
   "cell_type": "code",
   "execution_count": 88,
   "metadata": {},
   "outputs": [
    {
     "name": "stdout",
     "output_type": "stream",
     "text": [
      "The average charge is 13270.42 dollars\n"
     ]
    }
   ],
   "source": [
    "#now to analyze the charges and find the average\n",
    "with open('insurance.csv') as insurance_file:\n",
    "    insurance_reader = csv.DictReader(insurance_file)\n",
    "    for row in insurance_reader:\n",
    "        charges.append(float(row['charges']))\n",
    "\n",
    "average_charges = sum(charges) / len(charges)\n",
    "\n",
    "print('The average charge is ' + str(round(average_charges,2)) + ' dollars')"
   ]
  },
  {
   "cell_type": "markdown",
   "metadata": {},
   "source": [
    "After this basic analysis of the data we can see that:\n",
    "The average patient in this study is 39 year old non-smoking man with 1 children who lives in the southeast area and pays asbout 13270.42 dollars for his insurance.\n",
    "\n",
    "Now we will get into the really fun part, going into the meat of this data, understand the difference in charges for man and woman, smoking and non-smoking, what impact do children and BMI have in the cost, let's go.\n"
   ]
  },
  {
   "cell_type": "code",
   "execution_count": 105,
   "metadata": {},
   "outputs": [
    {
     "name": "stdout",
     "output_type": "stream",
     "text": [
      "A man pays on average 13956.75$ for his insurance\n",
      "A woman pays on average 12569.58$ for her insurance\n"
     ]
    }
   ],
   "source": [
    "#starting with the difference cost of man and woman\n",
    "male_costs = []\n",
    "female_costs = []\n",
    "with open('insurance.csv') as insurance_file:\n",
    "    insurance_reader = csv.DictReader(insurance_file)\n",
    "    for row in insurance_reader:\n",
    "        if row['sex'] == 'male':\n",
    "            male_costs.append(float(row['charges']))\n",
    "        else:\n",
    "            female_costs.append(float(row['charges']))\n",
    "\n",
    "average_charges_male = sum(male_costs) / len(male_costs)\n",
    "average_charges_female = sum(female_costs) / len(female_costs)\n",
    "\n",
    "print('A man pays on average ' + str(round(average_charges_male,2)) + '$ for his insurance')\n",
    "print('A woman pays on average ' + str(round(average_charges_female,2)) + '$ for her insurance')\n",
    "\n"
   ]
  },
  {
   "cell_type": "code",
   "execution_count": 119,
   "metadata": {},
   "outputs": [
    {
     "name": "stdout",
     "output_type": "stream",
     "text": [
      "The average insurance cost for a smoker is 32050.23 dollars\n",
      "The average insurance cost for a nonsmoker is 8434.27 dollars\n",
      "The average insurance cost for a smoking male is 33042.01 dollars\n",
      "The average insurance cost for a smoking female is 30679.0 dollars\n",
      "The average insurance cost for a nonsmoking male is 8087.2 dollars\n",
      "The average insurance cost for a nonsmoking female is 8762.3 dollars\n"
     ]
    }
   ],
   "source": [
    "#difference in smoking and non-smoking plus smoking and non-smoking mand and woman\n",
    "smoking_charges = []\n",
    "nonsmoking_charges = []\n",
    "male_smoking_charges = []\n",
    "female_smoking_charges = []\n",
    "male_nonsmoking_charges = []\n",
    "female_nonsmoking_charges = []\n",
    "\n",
    "\n",
    "\n",
    "with open('insurance.csv') as insurance_file:\n",
    "    insurance_reader = csv.DictReader(insurance_file)\n",
    "    for row in insurance_reader:\n",
    "        if row['smoker'] == 'yes':\n",
    "            smoking_charges.append(float(row['charges']))\n",
    "        else:\n",
    "            nonsmoking_charges.append(float(row['charges']))\n",
    "            \n",
    "        if row['smoker'] == 'yes' and row['sex'] == 'male':\n",
    "            male_smoking_charges.append(float(row['charges']))\n",
    "        elif row['smoker'] == 'yes' and row['sex'] == 'female':\n",
    "            female_smoking_charges.append(float(row['charges']))\n",
    "        elif row['smoker'] == 'no' and row['sex'] == 'male':\n",
    "            male_nonsmoking_charges.append(float(row['charges']))\n",
    "        elif row['smoker'] == 'no' and row['sex'] == 'female':\n",
    "            female_nonsmoking_charges.append(float(row['charges']))\n",
    "            \n",
    "def find_average(list):\n",
    "    average = sum(list) / len(list)\n",
    "    return round(average, 2)\n",
    "\n",
    "print(\"The average insurance cost for a smoker is \" + str(find_average(smoking_charges)) + ' dollars')\n",
    "print(\"The average insurance cost for a nonsmoker is \" + str(find_average(nonsmoking_charges)) + ' dollars')\n",
    "print(\"The average insurance cost for a smoking male is \" + str(find_average(male_smoking_charges)) + ' dollars')\n",
    "print(\"The average insurance cost for a smoking female is \" + str(find_average(female_smoking_charges)) + ' dollars')\n",
    "print(\"The average insurance cost for a nonsmoking male is \" + str(find_average(male_nonsmoking_charges)) + ' dollars')\n",
    "print(\"The average insurance cost for a nonsmoking female is \" + str(find_average(female_nonsmoking_charges)) + ' dollars')"
   ]
  },
  {
   "cell_type": "code",
   "execution_count": 120,
   "metadata": {},
   "outputs": [
    {
     "name": "stdout",
     "output_type": "stream",
     "text": [
      "Average charges for 0 children: 12365.98 dollars\n",
      "Average charges for 1 children: 12731.17 dollars\n",
      "Average charges for 3 children: 15355.32 dollars\n",
      "Average charges for 2 children: 15073.56 dollars\n",
      "Average charges for 5 children: 8786.04 dollars\n",
      "Average charges for 4 children: 13850.66 dollars\n"
     ]
    }
   ],
   "source": [
    "#finding out the same for children and its amount and gender\n",
    "\n",
    "charges_by_children = {}\n",
    "\n",
    "with open('insurance.csv') as insurance_file:\n",
    "    insurance_reader = csv.DictReader(insurance_file)\n",
    "    for row in insurance_reader:\n",
    "        num_children = int(row['children'])\n",
    "        charges = float(row['charges'])\n",
    "        \n",
    "        # Check if the number of children is already a key in the dictionary\n",
    "        if num_children in charges_by_children:\n",
    "            charges_by_children[num_children].append(charges)\n",
    "        else:\n",
    "            # If not, create a new key with a list containing the charge\n",
    "            charges_by_children[num_children] = [charges]\n",
    "\n",
    "# Calculate the average charges for each number of children\n",
    "average_charges_by_children = {}\n",
    "for num_children, charge_list in charges_by_children.items():\n",
    "    average_charge = sum(charge_list) / len(charge_list)\n",
    "    average_charges_by_children[num_children] = average_charge\n",
    "\n",
    "# Print the results\n",
    "for num_children, average_charge in average_charges_by_children.items():\n",
    "    print(f'Average charges for {num_children} children: {round(average_charge, 2)} dollars')"
   ]
  },
  {
   "cell_type": "code",
   "execution_count": 122,
   "metadata": {},
   "outputs": [
    {
     "name": "stdout",
     "output_type": "stream",
     "text": [
      "Average insurance cost: $35925.52\n",
      "Average insurance cost: $7688.32\n"
     ]
    }
   ],
   "source": [
    "#now to finish this off I made a function that allows you to look for a specific type of person and return the average cost for them\n",
    "\n",
    "def calculate_average_insurance_cost(gender=None, num_children=None, smoker=None, bmi=None, region=None):\n",
    "    charges = []\n",
    "    \n",
    "    with open('insurance.csv') as insurance_file:\n",
    "        insurance_reader = csv.DictReader(insurance_file)\n",
    "        for row in insurance_reader:\n",
    "            match_criteria = True\n",
    "            \n",
    "            if gender is not None and row['sex'] != gender:\n",
    "                match_criteria = False\n",
    "            if num_children is not None and int(row['children']) != num_children:\n",
    "                match_criteria = False\n",
    "            if smoker is not None and row['smoker'] != smoker:\n",
    "                match_criteria = False\n",
    "            if bmi is not None and float(row['bmi']) != bmi:\n",
    "                match_criteria = False\n",
    "            if region is not None and row['region'] != region:\n",
    "                match_criteria = False\n",
    "                \n",
    "            if match_criteria:\n",
    "                charges.append(float(row['charges']))\n",
    "    \n",
    "    if charges:\n",
    "        average_charge = sum(charges) / len(charges)\n",
    "        return round(average_charge, 2)\n",
    "    else:\n",
    "        return 'No data found for the specified criteria.'\n",
    "\n",
    "# Example usage without specifying BMI:\n",
    "average_cost = calculate_average_insurance_cost('male', 1, 'yes', region='southeast')\n",
    "print(f'Average insurance cost: ${average_cost}')\n",
    "\n",
    "average_cost = calculate_average_insurance_cost('female', 0, 'no')\n",
    "print(f'Average insurance cost: ${average_cost}')\n"
   ]
  },
  {
   "cell_type": "code",
   "execution_count": null,
   "metadata": {},
   "outputs": [],
   "source": []
  }
 ],
 "metadata": {
  "kernelspec": {
   "display_name": "Python 3 (ipykernel)",
   "language": "python",
   "name": "python3"
  },
  "language_info": {
   "codemirror_mode": {
    "name": "ipython",
    "version": 3
   },
   "file_extension": ".py",
   "mimetype": "text/x-python",
   "name": "python",
   "nbconvert_exporter": "python",
   "pygments_lexer": "ipython3",
   "version": "3.11.4"
  }
 },
 "nbformat": 4,
 "nbformat_minor": 4
}
